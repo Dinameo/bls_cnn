{
 "cells": [
  {
   "cell_type": "code",
   "execution_count": 2,
   "metadata": {},
   "outputs": [],
   "source": [
    "import os\n",
    "import numpy as np"
   ]
  },
  {
   "cell_type": "code",
   "execution_count": 8,
   "metadata": {},
   "outputs": [],
   "source": [
    "path = \"D:/Code/NHAP_MON_AI/Project/BLS/dataset/train\"\n",
    "pathnew = \"D:/Code/NHAP_MON_AI/Project/BLS/Nhom_Nhan_Phat_Van_Huy/train\"\n",
    "Folders = os.listdir(path)\n",
    "for _char in Folders:\n",
    "    _path = f\"{pathnew}/{_char}\"\n",
    "    if not os.path.exists(_path):\n",
    "        os.makedirs(_path)"
   ]
  },
  {
   "cell_type": "code",
   "execution_count": 9,
   "metadata": {},
   "outputs": [],
   "source": [
    "\n",
    "import cv2\n",
    "for folder in Folders:\n",
    "    _path = f\"{path}/{folder}\"\n",
    "    images = os.listdir(_path)\n",
    "    for image in images:\n",
    "        __path = f\"{path}/{folder}/{image}\"\n",
    "        img = cv2.imread(__path)\n",
    "        _img = cv2.resize(img, (75, 100))\n",
    "        cv2.imwrite(f\"{pathnew}/{folder}/{image}\", _img)\n",
    "\n"
   ]
  }
 ],
 "metadata": {
  "kernelspec": {
   "display_name": "base",
   "language": "python",
   "name": "python3"
  },
  "language_info": {
   "codemirror_mode": {
    "name": "ipython",
    "version": 3
   },
   "file_extension": ".py",
   "mimetype": "text/x-python",
   "name": "python",
   "nbconvert_exporter": "python",
   "pygments_lexer": "ipython3",
   "version": "3.12.4"
  }
 },
 "nbformat": 4,
 "nbformat_minor": 2
}
